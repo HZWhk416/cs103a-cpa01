{
 "cells": [
  {
   "cell_type": "markdown",
   "metadata": {},
   "source": [
    "## Header\n",
    "1. This dataset describes the gun violence cases in the US during 2012-2014, this dataset contains the following columns: year, month, intent, whether there was any police involved, gender, age, race, hispanic(A code indicating the Hispanic origin of the victim, not useful in this PA), place and education level.\n",
    "2. https://www.kaggle.com/hakabuk/gun-deaths-in-the-us, simply just log in and click download.\n",
    "\n",
    "Q1: The relationship between age, intent and place.\n",
    "\n",
    "Q2: The relationship between age and race.\n"
   ]
  },
  {
   "cell_type": "code",
   "execution_count": 59,
   "metadata": {},
   "outputs": [],
   "source": [
    "import numpy as np\n",
    "import pandas as pd\n",
    "import matplotlib.pyplot as plt"
   ]
  },
  {
   "cell_type": "code",
   "execution_count": 60,
   "metadata": {},
   "outputs": [],
   "source": [
    "df = pd.read_csv('guns.csv')"
   ]
  },
  {
   "cell_type": "code",
   "execution_count": 61,
   "metadata": {},
   "outputs": [
    {
     "data": {
      "text/html": [
       "<div>\n",
       "<style scoped>\n",
       "    .dataframe tbody tr th:only-of-type {\n",
       "        vertical-align: middle;\n",
       "    }\n",
       "\n",
       "    .dataframe tbody tr th {\n",
       "        vertical-align: top;\n",
       "    }\n",
       "\n",
       "    .dataframe thead th {\n",
       "        text-align: right;\n",
       "    }\n",
       "</style>\n",
       "<table border=\"1\" class=\"dataframe\">\n",
       "  <thead>\n",
       "    <tr style=\"text-align: right;\">\n",
       "      <th></th>\n",
       "      <th>Unnamed: 0</th>\n",
       "      <th>year</th>\n",
       "      <th>month</th>\n",
       "      <th>police</th>\n",
       "      <th>age</th>\n",
       "      <th>hispanic</th>\n",
       "      <th>education</th>\n",
       "    </tr>\n",
       "  </thead>\n",
       "  <tbody>\n",
       "    <tr>\n",
       "      <th>count</th>\n",
       "      <td>100798.000000</td>\n",
       "      <td>100798.000000</td>\n",
       "      <td>100798.000000</td>\n",
       "      <td>100798.000000</td>\n",
       "      <td>100780.000000</td>\n",
       "      <td>100798.000000</td>\n",
       "      <td>100745.000000</td>\n",
       "    </tr>\n",
       "    <tr>\n",
       "      <th>mean</th>\n",
       "      <td>50399.500000</td>\n",
       "      <td>2013.000357</td>\n",
       "      <td>6.567601</td>\n",
       "      <td>0.013909</td>\n",
       "      <td>43.857601</td>\n",
       "      <td>114.179607</td>\n",
       "      <td>2.296352</td>\n",
       "    </tr>\n",
       "    <tr>\n",
       "      <th>std</th>\n",
       "      <td>29098.020554</td>\n",
       "      <td>0.816278</td>\n",
       "      <td>3.405609</td>\n",
       "      <td>0.117114</td>\n",
       "      <td>19.496181</td>\n",
       "      <td>61.595734</td>\n",
       "      <td>0.990105</td>\n",
       "    </tr>\n",
       "    <tr>\n",
       "      <th>min</th>\n",
       "      <td>1.000000</td>\n",
       "      <td>2012.000000</td>\n",
       "      <td>1.000000</td>\n",
       "      <td>0.000000</td>\n",
       "      <td>0.000000</td>\n",
       "      <td>100.000000</td>\n",
       "      <td>1.000000</td>\n",
       "    </tr>\n",
       "    <tr>\n",
       "      <th>25%</th>\n",
       "      <td>25200.250000</td>\n",
       "      <td>2012.000000</td>\n",
       "      <td>4.000000</td>\n",
       "      <td>0.000000</td>\n",
       "      <td>27.000000</td>\n",
       "      <td>100.000000</td>\n",
       "      <td>2.000000</td>\n",
       "    </tr>\n",
       "    <tr>\n",
       "      <th>50%</th>\n",
       "      <td>50399.500000</td>\n",
       "      <td>2013.000000</td>\n",
       "      <td>7.000000</td>\n",
       "      <td>0.000000</td>\n",
       "      <td>42.000000</td>\n",
       "      <td>100.000000</td>\n",
       "      <td>2.000000</td>\n",
       "    </tr>\n",
       "    <tr>\n",
       "      <th>75%</th>\n",
       "      <td>75598.750000</td>\n",
       "      <td>2014.000000</td>\n",
       "      <td>9.000000</td>\n",
       "      <td>0.000000</td>\n",
       "      <td>58.000000</td>\n",
       "      <td>100.000000</td>\n",
       "      <td>3.000000</td>\n",
       "    </tr>\n",
       "    <tr>\n",
       "      <th>max</th>\n",
       "      <td>100798.000000</td>\n",
       "      <td>2014.000000</td>\n",
       "      <td>12.000000</td>\n",
       "      <td>1.000000</td>\n",
       "      <td>107.000000</td>\n",
       "      <td>998.000000</td>\n",
       "      <td>5.000000</td>\n",
       "    </tr>\n",
       "  </tbody>\n",
       "</table>\n",
       "</div>"
      ],
      "text/plain": [
       "          Unnamed: 0           year          month         police  \\\n",
       "count  100798.000000  100798.000000  100798.000000  100798.000000   \n",
       "mean    50399.500000    2013.000357       6.567601       0.013909   \n",
       "std     29098.020554       0.816278       3.405609       0.117114   \n",
       "min         1.000000    2012.000000       1.000000       0.000000   \n",
       "25%     25200.250000    2012.000000       4.000000       0.000000   \n",
       "50%     50399.500000    2013.000000       7.000000       0.000000   \n",
       "75%     75598.750000    2014.000000       9.000000       0.000000   \n",
       "max    100798.000000    2014.000000      12.000000       1.000000   \n",
       "\n",
       "                 age       hispanic      education  \n",
       "count  100780.000000  100798.000000  100745.000000  \n",
       "mean       43.857601     114.179607       2.296352  \n",
       "std        19.496181      61.595734       0.990105  \n",
       "min         0.000000     100.000000       1.000000  \n",
       "25%        27.000000     100.000000       2.000000  \n",
       "50%        42.000000     100.000000       2.000000  \n",
       "75%        58.000000     100.000000       3.000000  \n",
       "max       107.000000     998.000000       5.000000  "
      ]
     },
     "execution_count": 61,
     "metadata": {},
     "output_type": "execute_result"
    }
   ],
   "source": [
    "df.describe()"
   ]
  },
  {
   "cell_type": "code",
   "execution_count": 62,
   "metadata": {},
   "outputs": [
    {
     "data": {
      "text/plain": [
       "Index(['Unnamed: 0', 'year', 'month', 'intent', 'police', 'sex', 'age', 'race',\n",
       "       'hispanic', 'place', 'education'],\n",
       "      dtype='object')"
      ]
     },
     "execution_count": 62,
     "metadata": {},
     "output_type": "execute_result"
    }
   ],
   "source": [
    "df.columns"
   ]
  },
  {
   "cell_type": "code",
   "execution_count": 63,
   "metadata": {},
   "outputs": [
    {
     "data": {
      "text/plain": [
       "<PandasArray>\n",
       "[     0,      1,      2,      3,      4,      5,      6,      7,      8,\n",
       "      9,\n",
       " ...\n",
       " 100788, 100789, 100790, 100791, 100792, 100793, 100794, 100795, 100796,\n",
       " 100797]\n",
       "Length: 100798, dtype: int64"
      ]
     },
     "execution_count": 63,
     "metadata": {},
     "output_type": "execute_result"
    }
   ],
   "source": [
    "df.index.array"
   ]
  },
  {
   "cell_type": "code",
   "execution_count": 52,
   "metadata": {},
   "outputs": [
    {
     "data": {
      "text/html": [
       "<div>\n",
       "<style scoped>\n",
       "    .dataframe tbody tr th:only-of-type {\n",
       "        vertical-align: middle;\n",
       "    }\n",
       "\n",
       "    .dataframe tbody tr th {\n",
       "        vertical-align: top;\n",
       "    }\n",
       "\n",
       "    .dataframe thead th {\n",
       "        text-align: right;\n",
       "    }\n",
       "</style>\n",
       "<table border=\"1\" class=\"dataframe\">\n",
       "  <thead>\n",
       "    <tr style=\"text-align: right;\">\n",
       "      <th>intent</th>\n",
       "      <th>Accidental</th>\n",
       "      <th>Homicide</th>\n",
       "      <th>Suicide</th>\n",
       "      <th>Undetermined</th>\n",
       "    </tr>\n",
       "    <tr>\n",
       "      <th>place</th>\n",
       "      <th></th>\n",
       "      <th></th>\n",
       "      <th></th>\n",
       "      <th></th>\n",
       "    </tr>\n",
       "  </thead>\n",
       "  <tbody>\n",
       "    <tr>\n",
       "      <th>Farm</th>\n",
       "      <td>44.384615</td>\n",
       "      <td>37.421053</td>\n",
       "      <td>48.761905</td>\n",
       "      <td>48.000000</td>\n",
       "    </tr>\n",
       "    <tr>\n",
       "      <th>Home</th>\n",
       "      <td>36.559047</td>\n",
       "      <td>35.577107</td>\n",
       "      <td>51.515041</td>\n",
       "      <td>39.672897</td>\n",
       "    </tr>\n",
       "    <tr>\n",
       "      <th>Industrial/construction</th>\n",
       "      <td>39.285714</td>\n",
       "      <td>35.541176</td>\n",
       "      <td>47.612903</td>\n",
       "      <td>66.000000</td>\n",
       "    </tr>\n",
       "    <tr>\n",
       "      <th>Other specified</th>\n",
       "      <td>40.644550</td>\n",
       "      <td>30.609513</td>\n",
       "      <td>46.713823</td>\n",
       "      <td>40.141026</td>\n",
       "    </tr>\n",
       "    <tr>\n",
       "      <th>Other unspecified</th>\n",
       "      <td>41.548571</td>\n",
       "      <td>31.226541</td>\n",
       "      <td>49.127383</td>\n",
       "      <td>41.474820</td>\n",
       "    </tr>\n",
       "    <tr>\n",
       "      <th>Residential institution</th>\n",
       "      <td>19.800000</td>\n",
       "      <td>37.315068</td>\n",
       "      <td>56.664000</td>\n",
       "      <td>NaN</td>\n",
       "    </tr>\n",
       "    <tr>\n",
       "      <th>School/instiution</th>\n",
       "      <td>38.272727</td>\n",
       "      <td>30.559557</td>\n",
       "      <td>47.088136</td>\n",
       "      <td>42.750000</td>\n",
       "    </tr>\n",
       "    <tr>\n",
       "      <th>Sports</th>\n",
       "      <td>59.200000</td>\n",
       "      <td>24.545455</td>\n",
       "      <td>45.295918</td>\n",
       "      <td>65.000000</td>\n",
       "    </tr>\n",
       "    <tr>\n",
       "      <th>Street</th>\n",
       "      <td>31.897436</td>\n",
       "      <td>29.084583</td>\n",
       "      <td>43.710225</td>\n",
       "      <td>41.640000</td>\n",
       "    </tr>\n",
       "    <tr>\n",
       "      <th>Trade/service area</th>\n",
       "      <td>37.057143</td>\n",
       "      <td>33.971738</td>\n",
       "      <td>47.932676</td>\n",
       "      <td>38.555556</td>\n",
       "    </tr>\n",
       "  </tbody>\n",
       "</table>\n",
       "</div>"
      ],
      "text/plain": [
       "intent                   Accidental   Homicide    Suicide  Undetermined\n",
       "place                                                                  \n",
       "Farm                      44.384615  37.421053  48.761905     48.000000\n",
       "Home                      36.559047  35.577107  51.515041     39.672897\n",
       "Industrial/construction   39.285714  35.541176  47.612903     66.000000\n",
       "Other specified           40.644550  30.609513  46.713823     40.141026\n",
       "Other unspecified         41.548571  31.226541  49.127383     41.474820\n",
       "Residential institution   19.800000  37.315068  56.664000           NaN\n",
       "School/instiution         38.272727  30.559557  47.088136     42.750000\n",
       "Sports                    59.200000  24.545455  45.295918     65.000000\n",
       "Street                    31.897436  29.084583  43.710225     41.640000\n",
       "Trade/service area        37.057143  33.971738  47.932676     38.555556"
      ]
     },
     "execution_count": 52,
     "metadata": {},
     "output_type": "execute_result"
    }
   ],
   "source": [
    "pt = pd.pivot_table(df, values='age', index=[\"place\"], columns=[\"intent\"])\n",
    "pt"
   ]
  },
  {
   "cell_type": "code",
   "execution_count": 31,
   "metadata": {},
   "outputs": [
    {
     "data": {
      "text/plain": [
       "(array([0, 1, 2, 3, 4, 5, 6, 7, 8, 9]),\n",
       " [Text(0, 0, 'Farm'),\n",
       "  Text(1, 0, 'Home'),\n",
       "  Text(2, 0, 'Industrial/construction'),\n",
       "  Text(3, 0, 'Other specified'),\n",
       "  Text(4, 0, 'Other unspecified'),\n",
       "  Text(5, 0, 'Residential institution'),\n",
       "  Text(6, 0, 'School/instiution'),\n",
       "  Text(7, 0, 'Sports'),\n",
       "  Text(8, 0, 'Street'),\n",
       "  Text(9, 0, 'Trade/service area')])"
      ]
     },
     "execution_count": 31,
     "metadata": {},
     "output_type": "execute_result"
    },
    {
     "data": {
      "image/png": "[encoded data removed]",
      "text/plain": [
       "<Figure size 1080x720 with 1 Axes>"
      ]
     },
     "metadata": {
      "needs_background": "light"
     },
     "output_type": "display_data"
    }
   ],
   "source": [
    "pt[[\"Accidental\",\"Homicide\",\"Suicide\"]].plot(figsize=(15,10), kind='bar')\n",
    "plt.xlabel('Place')\n",
    "plt.ylabel('Age')\n",
    "plt.title('Relations ship between age and place for each kind of intent')\n",
    "plt.xticks(rotation=35)"
   ]
  },
  {
   "cell_type": "markdown",
   "metadata": {},
   "source": [
    "### Answer for Q1:\n",
    "From the plot above, we can see that for accidents happened a lot more than the other two intents when people are in sports fields. This is quite understandable since there was always someone who do not use guns properly. Besides, we can also notice that in other places, there are always more suicides than homicides, especially in residential insitution, which also makes sense because people who are willing to commit suicide are more likely to do so in there own places."
   ]
  },
  {
   "cell_type": "code",
   "execution_count": 50,
   "metadata": {},
   "outputs": [
    {
     "data": {
      "text/plain": [
       "race\n",
       "Asian/Pacific Islander            38.617647\n",
       "Black                             31.097712\n",
       "Hispanic                          33.216384\n",
       "Native American/Native Alaskan    36.233624\n",
       "White                             50.005557\n",
       "Name: age, dtype: float64"
      ]
     },
     "execution_count": 50,
     "metadata": {},
     "output_type": "execute_result"
    }
   ],
   "source": [
    "df1 = df.groupby(['race']).mean()\n",
    "df1['age']"
   ]
  },
  {
   "cell_type": "markdown",
   "metadata": {},
   "source": [
    "### Answer for Q2:\n",
    "From the result above we can see that White people were usually get involved in a gun incident at the age of\n",
    "50, while other races are usually get involved at the age of 30-40 , among which the ranking of age in a \n",
    "descending order is: Asian/Pacific Islander > Native Americal/Native Alskan > Hispanic > Black"
   ]
  },
  {
   "cell_type": "code",
   "execution_count": null,
   "metadata": {},
   "outputs": [],
   "source": []
  }
 ],
 "metadata": {
  "interpreter": {
   "hash": "63fd5069d213b44bf678585dea6b12cceca9941eaf7f819626cde1f2670de90d"
  },
  "kernelspec": {
   "display_name": "Python 3 (ipykernel)",
   "language": "python",
   "name": "python3"
  },
  "language_info": {
   "codemirror_mode": {
    "name": "ipython",
    "version": 3
   },
   "file_extension": ".py",
   "mimetype": "text/x-python",
   "name": "python",
   "nbconvert_exporter": "python",
   "pygments_lexer": "ipython3",
   "version": "3.9.5"
  }
 },
 "nbformat": 4,
 "nbformat_minor": 4
}
