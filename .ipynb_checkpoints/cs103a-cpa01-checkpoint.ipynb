{
 "cells": [
  {
   "cell_type": "markdown",
   "metadata": {},
   "source": [
    "## Header\n",
    "1. This dataset describes the gun violence cases in the US during 2012-2014, this dataset contains the following columns: year, month, intent, whether there was any police involved, gender, age, race, hispanic(A code indicating the Hispanic origin of the victim, not useful in this PA), place and education level.\n",
    "2. https://www.kaggle.com/hakabuk/gun-deaths-in-the-us, simply just log in and click download.\n",
    "\n",
    "Q1: The relationship between education level and gun incident.\n",
    "\n",
    "Q2: The relationship between age and gun incident.\n",
    "\n",
    "Q3: The relationship between place and gun incident.\n",
    "\n",
    "Q4: Check the intent of all gun incident and group them, and check which intent has the most count"
   ]
  },
  {
   "cell_type": "code",
   "execution_count": null,
   "metadata": {},
   "outputs": [],
   "source": [
    "import numpy as np\n",
    "import pandas as pd\n",
    "import matplotlib.pyplot as plt"
   ]
  },
  {
   "cell_type": "code",
   "execution_count": 2,
   "metadata": {},
   "outputs": [],
   "source": [
    "df = pd.read_csv('guns.csv')"
   ]
  },
  {
   "cell_type": "code",
   "execution_count": null,
   "metadata": {},
   "outputs": [],
   "source": []
  }
 ],
 "metadata": {
  "interpreter": {
   "hash": "63fd5069d213b44bf678585dea6b12cceca9941eaf7f819626cde1f2670de90d"
  },
  "kernelspec": {
   "display_name": "Python 3 (ipykernel)",
   "language": "python",
   "name": "python3"
  },
  "language_info": {
   "codemirror_mode": {
    "name": "ipython",
    "version": 3
   },
   "file_extension": ".py",
   "mimetype": "text/x-python",
   "name": "python",
   "nbconvert_exporter": "python",
   "pygments_lexer": "ipython3",
   "version": "3.9.5"
  }
 },
 "nbformat": 4,
 "nbformat_minor": 4
}
